{
 "cells": [
  {
   "cell_type": "code",
   "execution_count": 1,
   "id": "04ffe341-8921-439e-a584-26eec46776be",
   "metadata": {},
   "outputs": [],
   "source": [
    "import numpy as np"
   ]
  },
  {
   "cell_type": "markdown",
   "id": "ca38ccb0-9786-4c28-86a4-a0c5768ebe70",
   "metadata": {},
   "source": [
    "In this notebook I will make a table of sin(x) and cos(x)"
   ]
  },
  {
   "cell_type": "markdown",
   "id": "497ca81a-d42a-4ed7-a8ff-724231a6809a",
   "metadata": {},
   "source": [
    "hello"
   ]
  },
  {
   "cell_type": "code",
   "execution_count": null,
   "id": "8050cc14-1aac-4650-bfe7-259d49b7b951",
   "metadata": {},
   "outputs": [],
   "source": []
  }
 ],
 "metadata": {
  "kernelspec": {
   "display_name": "Python 3 (ipykernel)",
   "language": "python",
   "name": "python3"
  },
  "language_info": {
   "codemirror_mode": {
    "name": "ipython",
    "version": 3
   },
   "file_extension": ".py",
   "mimetype": "text/x-python",
   "name": "python",
   "nbconvert_exporter": "python",
   "pygments_lexer": "ipython3",
   "version": "3.11.5"
  }
 },
 "nbformat": 4,
 "nbformat_minor": 5
}
